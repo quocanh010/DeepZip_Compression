{
 "cells": [
  {
   "cell_type": "code",
   "execution_count": 1,
   "metadata": {},
   "outputs": [],
   "source": [
    "import numpy as np\n",
    "#from bitstream import BitStream\n",
    "from numpy import array\n"
   ]
  },
  {
   "cell_type": "code",
   "execution_count": 23,
   "metadata": {},
   "outputs": [],
   "source": [
    "class ArithmeticEncoder(object):\n",
    "    def __init__(self, bitlen):\n",
    "        self.bit_prec = bitlen   #bit precision \n",
    "        self.max_range = 1 << self.bit_prec  #max range based on bit precision 2^bit_prec\n",
    "        self.mask = self.max_range - 1  #max range index starting at 0\n",
    "        self.renorm= self.max_range >> 1  #renormalization threshold\n",
    "        self.second_mask = self.max_range >> 1\n",
    "        self.low = 0  #initial low\n",
    "        self.high = self.mask  #initial high\n",
    "        self.s = 0  \n",
    "\n",
    "    def update(self, sym, c):\n",
    "        low = self.low   \n",
    "        high = self.high\n",
    "        range = high - low + 1\n",
    "#         print(sym)\n",
    "#         print(sym.shape)\n",
    "        sym = int(sym)\n",
    "        total = (c[-1])  #cumulative propabilities\n",
    "        symlow = (c[sym])  \n",
    "        symhigh = (c[sym+1] )\n",
    "        \n",
    "\n",
    "        newlow = low + symlow*range // total  #low in arithmetic integer\n",
    "        newhigh = low + symhigh*range // total -1 #high in arithemtic integer\n",
    "        self.low = int(newlow)\n",
    "        self.high = int(newhigh)\n",
    "        range = self.high - self.low \n",
    "#         print(\"sym:\", sym)\n",
    "#         print(\"symlow:\", self.low)\n",
    "#         print(\"symhigh:\", self.high)\n",
    "#         print(\"range:\", range)\n",
    "        \n",
    "        #renormalization\n",
    "        while((self.low ^ self.high) & self.renorm) == 0:\n",
    "            self.low = (self.low << 1) \n",
    "            range = range << 1 | 1\n",
    "            self.high = self.low + range\n",
    "            self.s = self.s + 1          \n",
    "#         print(\"renorm low:\",self.low)\n",
    "#         print(\"renorm range:\",range)\n",
    "#         print(\"renorm high:\", self.high)\n",
    "   \n",
    "    def write(self, c, sym):\n",
    "        self.update(c,sym)\n",
    "        return [self.low, self.s]\n",
    "        \n",
    "    def finish(self):\n",
    "        self.output.write(1)\n",
    "\n",
    "\n",
    "# In[25]:\n"
   ]
  },
  {
   "cell_type": "code",
   "execution_count": 24,
   "metadata": {},
   "outputs": [],
   "source": [
    "class ArithmeticDecoder(ArithmeticEncoder):\n",
    "    def __init__(self,statesize,bitin,c):\n",
    "        self.input = bitin\n",
    "        self.bitstream = ([int(d) for d in str(self.input)])\n",
    "        self.code = 0\n",
    "        self.max_range = 1 << statesize\n",
    "        self.renorm= self.max_range >> 1\n",
    "        self.mask = self.max_range - 1\n",
    "        self.stream = self.input[0:statesize]\n",
    "        self.low = int(self.stream,2)\n",
    "        self.t = statesize\n",
    "        self.thresh = []\n",
    "        self.total = (c[-1])\n",
    "        self.cum = [c[i]/self.total for i in range(len(c))]\n",
    "        self.thresh = [round((self.cum[i])*self.mask) for i in range(len(self.cum))]\n",
    "        \n",
    "    def decode(self, c):\n",
    "#         print(\"low:\",self.low\n",
    "        c = [c[i]/self.total for i in range(len(c))]\n",
    "#         print(\"cum::\", c)\n",
    "        for i in range(len(self.thresh)-1):\n",
    "            if((self.low < self.thresh[i+1]) & (self.low >= self.thresh[i])):\n",
    "                sym = i\n",
    "#                 print(\"encoded value:\",self.low)\n",
    "#                 print(\"threshold:\", self.thresh)\n",
    "#                 print(\"decoded value:\", sym)\n",
    "                rangenew = int(self.thresh[i+1] - self.thresh[i])\n",
    "#                 print(\"range:\", rangenew)\n",
    "#                 print(\"low:\", self.thresh[i])\n",
    "                while (rangenew < self.renorm):\n",
    "                    rangenew = rangenew << 1 \n",
    "                    self.low = self.low << 1\n",
    "                    self.thresh[i] = int(self.thresh[i]) << 1\n",
    "#                     print(\"renorm val;\",self.low)\n",
    "#                     print(\"renorm range;\",rangenew)\n",
    "                    self.thresh[i+1] = rangenew + self.thresh[i]\n",
    "#                     print(\"renorm low:\" ,self.thresh[i])\n",
    "                self.thresh = [(c[j]*(self.thresh[i+1]-self.thresh[i]))+self.thresh[i] for j in range(len(self.cum))]\n",
    "                break\n",
    "        return sym\n"
   ]
  },
  {
   "cell_type": "code",
   "execution_count": 30,
   "metadata": {
    "scrolled": false
   },
   "outputs": [
    {
     "name": "stdout",
     "output_type": "stream",
     "text": [
      "num stream: [1 2 2 0 3 3 1 2 2 0 3 3 1 2 2 0 3 3 1 2 2]\n",
      "probability: [0.25 0.25 0.25 0.25]\n",
      "cumulative prob: [       0  2500001  5000002  7500003 10000004]\n",
      "encoded bit length: 703\n",
      "decoded num stream: [2, 2, 3, 2, 0, 0, 0, 3, 1, 2, 0, 2, 3, 1, 3, 2, 2, 3, 2, 0, 0]\n",
      "21\n"
     ]
    }
   ],
   "source": [
    "#test bit stream\n",
    "bitprecision = 32\n",
    "alphabet_size = 4\n",
    "#fake input stream -- use real data\n",
    "sym = np.array([1, 2, 2 ,0 ,3 ,3 ,1 ,2 ,2 ,0, 3, 3 ,1 ,2 ,2, 0, 3, 3 ,1 ,2, 2 ])\n",
    "#make an array of cumulative probabilities\n",
    "prob = np.ones(alphabet_size)/alphabet_size\n",
    "c = np.zeros(alphabet_size+1,  dtype = np.uint64)\n",
    "c[1:] = np.cumsum(prob*10000000 + 1)  \n",
    "\n",
    "\n",
    "    \n",
    "# print(\"symbol stream input:\", in_stream)\n",
    "print(\"num stream:\", sym)\n",
    "print(\"probability:\", prob)\n",
    "print(\"cumulative prob:\", c)\n",
    "\n",
    "for i in range((sym.shape[0])):\n",
    "    new = enc.write(sym[i], c.tolist())\n",
    "    \n",
    "low_final = new[0] #final low value \n",
    "s_final = new[1]  #count of renormalizations\n",
    "bitstream = format(int(low_final), 'b') \n",
    "while len(bitstream) < (s_final+bitprecision):\n",
    "    bitstream = '0' + bitstream\n",
    "print(\"encoded bit length:\", len(bitstream))\n",
    "\n",
    "\n",
    "#START DECODER\n",
    "symdec = []\n",
    "dec = ArithmeticDecoder(bitprecision, bitstream , c.tolist())\n",
    "for i in range(sym.shape[0]):\n",
    "    symdec.append(dec.decode(c.tolist()))\n",
    "\n",
    "print(\"decoded num stream:\", symdec)\n",
    "print(len(symdec))\n",
    "\n"
   ]
  },
  {
   "cell_type": "code",
   "execution_count": 37,
   "metadata": {},
   "outputs": [],
   "source": [
    "a = [0, 1, 2, 3, 3, 0, 1, 3, 2, 0, 3, 0, 0, 3, 0, 1, 1, 2, 3, 0, 1, 2, 3, 3, 0, 1, 3, 2, 0, 3, 0, 0, 3, 0, 1, 1, 2, 3]"
   ]
  },
  {
   "cell_type": "code",
   "execution_count": 20,
   "metadata": {},
   "outputs": [
    {
     "data": {
      "text/plain": [
       "64"
      ]
     },
     "execution_count": 20,
     "metadata": {},
     "output_type": "execute_result"
    }
   ],
   "source": [
    "sym.shape[0]"
   ]
  },
  {
   "cell_type": "code",
   "execution_count": 26,
   "metadata": {},
   "outputs": [
    {
     "data": {
      "text/plain": [
       "27573496511499124083638289825792"
      ]
     },
     "execution_count": 26,
     "metadata": {},
     "output_type": "execute_result"
    }
   ],
   "source": [
    "new[0]"
   ]
  },
  {
   "cell_type": "code",
   "execution_count": 51,
   "metadata": {},
   "outputs": [
    {
     "data": {
      "text/plain": [
       "range(0, 2)"
      ]
     },
     "execution_count": 51,
     "metadata": {},
     "output_type": "execute_result"
    }
   ],
   "source": [
    "range(round(len(sym) / 20))"
   ]
  },
  {
   "cell_type": "code",
   "execution_count": 27,
   "metadata": {},
   "outputs": [
    {
     "data": {
      "text/plain": [
       "2"
      ]
     },
     "execution_count": 27,
     "metadata": {},
     "output_type": "execute_result"
    }
   ],
   "source": [
    "sym[2]"
   ]
  },
  {
   "cell_type": "code",
   "execution_count": 52,
   "metadata": {},
   "outputs": [
    {
     "name": "stdout",
     "output_type": "stream",
     "text": [
      "0\n",
      "1\n"
     ]
    }
   ],
   "source": [
    "for j in range(round(len(sym) / 20)): \n",
    "    print(j)\n",
    "    "
   ]
  },
  {
   "cell_type": "code",
   "execution_count": 18,
   "metadata": {},
   "outputs": [],
   "source": [
    "sym = np.array([1, 2, 2 ,0 ,3 ,3 ,1 ,2 ,2 ,0, 3, 3 ,1 ,2 ,2, 0, 3, 3 ,1 ,2, 2 ,0 ,3, 3 ,1 ,2 ,2 ,0, 3 ,3 ,1 ,2, 2 ,0 ,3 ,3 ,1,\n",
    " 2 ,2 ,0 ,3,3 ,1 ,2 ,2, 0 ,3 ,3, 1, 2 ,2, 0, 3, 3, 1, 2, 2, 0 ,3 ,3, 1, 2 ,2 ,0])"
   ]
  },
  {
   "cell_type": "code",
   "execution_count": null,
   "metadata": {},
   "outputs": [],
   "source": []
  }
 ],
 "metadata": {
  "kernelspec": {
   "display_name": "Python 3",
   "language": "python",
   "name": "python3"
  },
  "language_info": {
   "codemirror_mode": {
    "name": "ipython",
    "version": 3
   },
   "file_extension": ".py",
   "mimetype": "text/x-python",
   "name": "python",
   "nbconvert_exporter": "python",
   "pygments_lexer": "ipython3",
   "version": "3.7.1"
  },
  "varInspector": {
   "cols": {
    "lenName": 16,
    "lenType": 16,
    "lenVar": 40
   },
   "kernels_config": {
    "python": {
     "delete_cmd_postfix": "",
     "delete_cmd_prefix": "del ",
     "library": "var_list.py",
     "varRefreshCmd": "print(var_dic_list())"
    },
    "r": {
     "delete_cmd_postfix": ") ",
     "delete_cmd_prefix": "rm(",
     "library": "var_list.r",
     "varRefreshCmd": "cat(var_dic_list()) "
    }
   },
   "types_to_exclude": [
    "module",
    "function",
    "builtin_function_or_method",
    "instance",
    "_Feature"
   ],
   "window_display": false
  }
 },
 "nbformat": 4,
 "nbformat_minor": 2
}
