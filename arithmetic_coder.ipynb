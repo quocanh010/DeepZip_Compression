{
 "cells": [
  {
   "cell_type": "code",
   "execution_count": 45,
   "metadata": {
    "collapsed": true
   },
   "outputs": [],
   "source": [
    "class ArithmeticEncoder(object):\n",
    "    def __init__(self, bitlen):\n",
    "        self.bit_prec = bitlen\n",
    "        self.max_range = 1 << self.bit_prec\n",
    "        self.mask = self.max_range - 1 \n",
    "        self.renorm= self.max_range >> 1\n",
    "        self.low = 0\n",
    "        self.high = self.mask\n",
    "        self.s = 0\n",
    "\n",
    "    def update(self, sym, c):\n",
    "        low = self.low \n",
    "        high = self.high\n",
    "        range = high - low + 1 \n",
    "        total = (c[-1])\n",
    "        symlow = c[sym]\n",
    "        symhigh = c[sym+1]\n",
    "#         print('total:', total)\n",
    "#         print('low:', symlow)\n",
    "#         print('high:', symhigh)\n",
    "\n",
    "        newlow = low + symlow*range // total\n",
    "        newhigh = low + symhigh*range // total\n",
    "        self.low = int(newlow)\n",
    "#         print('newlow', self.low)\n",
    "        self.high = int(newhigh)\n",
    "#         print('newhigh', self.high)\n",
    "        \n",
    "        range = self.high - self.low\n",
    "        #renormalization\n",
    "        \n",
    "        while(range < self.renorm):\n",
    "            self.low = self.low * 2\n",
    "            range = range*2\n",
    "            self.s = self.s + 1\n",
    "#             print(self.s)\n",
    "            self.high = range + self.low\n",
    "#         print(\"renorm low:\", self.low)\n",
    "#         print(\"renorm_high:\", self.high)\n",
    "#         print(\"renorm range:\", range)\n",
    "\n",
    "    def write(self, c, sym):\n",
    "        self.update(c,sym)\n",
    "        return [self.low, self.s]\n",
    "        \n",
    "    def finish(self):\n",
    "        self.output.write(1)"
   ]
  },
  {
   "cell_type": "code",
   "execution_count": 47,
   "metadata": {
    "scrolled": false
   },
   "outputs": [
    {
     "name": "stdout",
     "output_type": "stream",
     "text": [
      "symbol stream: ['a' 'c' 'g' 'g' 'c' 't' 'n']\n",
      "probability: [0.4 0.2 0.2 0.1 0.1]\n",
      "cumulative prob: [0, 0.4, 0.6000000000000001, 0.8, 0.9, 1.0]\n",
      "[low, s]: [0, 1]\n",
      "[low, s]: [328, 3]\n",
      "[low, s]: [1708, 5]\n",
      "[low, s]: [14296, 8]\n",
      "[low, s]: [57528, 10]\n",
      "[low, s]: [461352, 13]\n",
      "[low, s]: [7383712, 17]\n",
      "0b111000010101010\n"
     ]
    }
   ],
   "source": [
    "#test bit stream\n",
    "\n",
    "import numpy as np\n",
    "from bitstream import BitStream\n",
    "from numpy import array\n",
    "in_stream = array(['a','c', 'g', 'g', 'c','t','n'])\n",
    "prob = array([0.4, 0.2, 0.2, 0.1, 0.1])\n",
    "bs = 1024\n",
    "print(\"symbol stream:\", in_stream)\n",
    "print(\"probability:\", prob)\n",
    "c = []\n",
    "for i in range(len(prob)+1):\n",
    "    c.append(sum(prob[0:i]))\n",
    "print(\"cumulative prob:\", c)\n",
    "sym = []\n",
    "\n",
    "for x, letter in enumerate(in_stream): \n",
    "    if letter == 'a':\n",
    "        sym.append(0)\n",
    "    elif letter =='c':\n",
    "        sym.append(1)\n",
    "    elif letter == 'g':\n",
    "        sym.append(2)\n",
    "    elif letter == 't':\n",
    "        sym.append(3)\n",
    "    else: \n",
    "        sym.append(4)\n",
    "\n",
    "\n",
    "enc = ArithmeticEncoder(8)\n",
    "for j in range(len(sym)):\n",
    "    new = enc.write(sym[j], c)\n",
    "    print(\"[low, s]:\", new)\n",
    "\n",
    "low_final = new[0]/2**8\n",
    "s_final = new[1]\n",
    "\n",
    "bitstream = bin(int(low_final))\n",
    "print(bitstream)\n",
    "\n",
    "\n"
   ]
  }
 ],
 "metadata": {
  "kernelspec": {
   "display_name": "Python 3",
   "language": "python",
   "name": "python3"
  },
  "language_info": {
   "codemirror_mode": {
    "name": "ipython",
    "version": 3
   },
   "file_extension": ".py",
   "mimetype": "text/x-python",
   "name": "python",
   "nbconvert_exporter": "python",
   "pygments_lexer": "ipython3",
   "version": "3.6.8"
  },
  "varInspector": {
   "cols": {
    "lenName": 16,
    "lenType": 16,
    "lenVar": 40
   },
   "kernels_config": {
    "python": {
     "delete_cmd_postfix": "",
     "delete_cmd_prefix": "del ",
     "library": "var_list.py",
     "varRefreshCmd": "print(var_dic_list())"
    },
    "r": {
     "delete_cmd_postfix": ") ",
     "delete_cmd_prefix": "rm(",
     "library": "var_list.r",
     "varRefreshCmd": "cat(var_dic_list()) "
    }
   },
   "types_to_exclude": [
    "module",
    "function",
    "builtin_function_or_method",
    "instance",
    "_Feature"
   ],
   "window_display": false
  }
 },
 "nbformat": 4,
 "nbformat_minor": 2
}
