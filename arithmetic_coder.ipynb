{
 "cells": [
  {
   "cell_type": "code",
   "execution_count": 1,
   "metadata": {
    "collapsed": true
   },
   "outputs": [],
   "source": [
    "import numpy as np\n",
    "from bitstream import BitStream\n",
    "from numpy import array\n"
   ]
  },
  {
   "cell_type": "code",
   "execution_count": 2,
   "metadata": {
    "collapsed": true
   },
   "outputs": [],
   "source": [
    "class ArithmeticEncoder(object):\n",
    "    def __init__(self, bitlen):\n",
    "        self.bit_prec = bitlen   #bit precision \n",
    "        self.max_range = 1 << self.bit_prec  #max range based on bit precision 2^bit_prec\n",
    "        self.mask = self.max_range - 1  #max range index starting at 0\n",
    "        self.renorm= self.max_range >> 1  #renormalization threshold\n",
    "        self.second_mask = self.max_range >> 1\n",
    "        self.low = 0  #initial low\n",
    "        self.high = self.mask  #initial high\n",
    "        self.s = 0  \n",
    "\n",
    "    def update(self, sym, c):\n",
    "        low = self.low   \n",
    "        high = self.high\n",
    "        range = high - low + 1\n",
    "        total = (c[-1])  #cumulative propabilities\n",
    "        symlow = c[sym]  \n",
    "        symhigh = c[sym+1]  \n",
    "        \n",
    "\n",
    "        newlow = low + symlow*range // total  #low in arithmetic integer\n",
    "        newhigh = low + symhigh*range // total -1 #high in arithemtic integer\n",
    "        self.low = int(newlow)\n",
    "        self.high = int(newhigh)\n",
    "        range = self.high - self.low \n",
    "#         print(\"sym:\", sym)\n",
    "#         print(\"symlow:\", self.low)\n",
    "#         print(\"symhigh:\", self.high)\n",
    "#         print(\"range:\", range)\n",
    "        \n",
    "        #renormalization\n",
    "        while((self.low ^ self.high) & self.renorm) == 0:\n",
    "            self.low = (self.low << 1) \n",
    "            range = range << 1 | 1\n",
    "            self.high = self.low + range\n",
    "            self.s = self.s + 1          \n",
    "#         print(\"renorm low:\",self.low)\n",
    "#         print(\"renorm range:\",range)\n",
    "#         print(\"renorm high:\", self.high)\n",
    "   \n",
    "    def write(self, c, sym):\n",
    "        self.update(c,sym)\n",
    "        return [self.low, self.s]\n",
    "        \n",
    "    def finish(self):\n",
    "        self.output.write(1)"
   ]
  },
  {
   "cell_type": "code",
   "execution_count": 25,
   "metadata": {},
   "outputs": [],
   "source": [
    "class ArithmeticDecoder(ArithmeticEncoder):\n",
    "    def __init__(self,statesize,bitin):\n",
    "        self.input = bitin\n",
    "        self.bitstream = ([int(d) for d in str(self.input)])\n",
    "#         print(self.bitstream)\n",
    "        self.code = 0\n",
    "        self.max_range = 1 << statesize\n",
    "        self.renorm= self.max_range >> 1\n",
    "        self.mask = self.max_range - 1\n",
    "        \n",
    "        self.stream = self.input[0:statesize]\n",
    "        self.low = int(self.stream,2)\n",
    "        self.t = statesize\n",
    "        self.thresh = []\n",
    "        self.thresh = [round(c[i]*self.mask) for i in range(len(c))]\n",
    "        \n",
    "    def decode(self):\n",
    "        for i in range(len(self.thresh)-1):\n",
    "            if((self.low < self.thresh[i+1]) & (self.low >= self.thresh[i])):\n",
    "                sym = i\n",
    "#                 print(\"encoded value:\",self.low)\n",
    "#                 print(\"threshold:\", self.thresh)\n",
    "#                 print(\"decoded value:\", sym)\n",
    "                rangenew = int(self.thresh[i+1] - self.thresh[i])\n",
    "#                 print(\"range:\", rangenew)\n",
    "#                 print(\"low:\", self.thresh[i])\n",
    "                while (rangenew < self.renorm):\n",
    "                    rangenew = rangenew << 1 \n",
    "                    self.low = self.low << 1\n",
    "                    self.thresh[i] = int(self.thresh[i]) << 1\n",
    "#                     print(\"renorm val;\",self.low)\n",
    "#                     print(\"renorm range;\",rangenew)\n",
    "                    self.thresh[i+1] = rangenew + self.thresh[i]\n",
    "#                     print(\"renorm low:\" ,self.thresh[i])\n",
    "                self.thresh = [round(c[j]*(self.thresh[i+1]-self.thresh[i]))+self.thresh[i] for j in range(len(c))]\n",
    "                break\n",
    "        return sym\n"
   ]
  },
  {
   "cell_type": "code",
   "execution_count": 29,
   "metadata": {
    "scrolled": false
   },
   "outputs": [
    {
     "name": "stdout",
     "output_type": "stream",
     "text": [
      "symbol stream input: ['a' 'c' 'g' 't' 't' 'a' 'c' 't' 'g' 'a' 't' 'a' 'a' 't' 'a' 'c' 'c' 'g'\n",
      " 't']\n",
      "num stream: [0, 1, 2, 3, 3, 0, 1, 3, 2, 0, 3, 0, 0, 3, 0, 1, 1, 2, 3]\n",
      "probability: [0.5 0.2 0.2 0.1]\n",
      "cumulative prob: [0, 0.5, 0.7, 0.8999999999999999, 0.9999999999999999]\n",
      "encoded bit length: 106\n",
      "decoded num stream: [0, 1, 2, 3, 3, 0, 1, 3, 2, 0, 3, 0, 0, 3, 0, 1, 1, 2, 3, 1]\n",
      "decoded symbol stream: ['a', 'c', 'g', 't', 't', 'a', 'c', 't', 'g', 'a', 't', 'a', 'a', 't', 'a', 'c', 'c', 'g', 't']\n"
     ]
    }
   ],
   "source": [
    "#test bit stream\n",
    "bitprecision = 64\n",
    "\n",
    "#fake input stream -- use real data\n",
    "in_stream = array(['a','c','g','t','t', 'a', 'c', 't', 'g', 'a','t','a','a','t','a','c','c','g','t'])\n",
    "#fake probability array --use output from RNN.  \n",
    "prob = array([0.5, 0.2, 0.2, 0.1])\n",
    "\n",
    "#make an array of cumulative probabilities\n",
    "c = []\n",
    "for i in range(len(prob)+1):\n",
    "    c.append(sum(prob[0:i]))\n",
    "\n",
    "#convert letters into numbers that correspond to cum probability index\n",
    "sym = []\n",
    "for x, letter in enumerate(in_stream): \n",
    "    if letter == 'a':\n",
    "        sym.append(0)\n",
    "    elif letter =='c':\n",
    "        sym.append(1)\n",
    "    elif letter == 'g':\n",
    "        sym.append(2)\n",
    "    elif letter == 't':\n",
    "        sym.append(3)\n",
    "    \n",
    "print(\"symbol stream input:\", in_stream)\n",
    "print(\"num stream:\", sym)\n",
    "print(\"probability:\", prob)\n",
    "print(\"cumulative prob:\", c)\n",
    "\n",
    "sym.append(1) #fake symbol at end to discard in decorder \n",
    "\n",
    "#BEGIN ENCODER\n",
    "enc = ArithmeticEncoder(bitprecision)\n",
    "for j in range(len(sym)):\n",
    "    new = enc.write(sym[j], c)\n",
    "low_final = new[0] #fina low value \n",
    "s_final = new[1]  #count of renormalizations\n",
    "\n",
    "#convert low to bitstream, ensure proper number of bits \n",
    "bitstream = format(int(low_final), 'b')  \n",
    "while len(bitstream) < (s_final+bitprecision):\n",
    "    bitstream = '0' + bitstream\n",
    "print(\"encoded bit length:\", len(bitstream))\n",
    "\n",
    "\n",
    "#START DECODER\n",
    "dec = ArithmeticDecoder(bitprecision, bitstream)\n",
    "\n",
    "symdec = []\n",
    "for symbols in range(len(sym)):\n",
    "    symdec.append(dec.decode())\n",
    "print(\"decoded num stream:\", symdec)\n",
    "\n",
    "#convert numbers back to letters\n",
    "dec_stream = []\n",
    "for x, sym in enumerate(symdec): \n",
    "    if sym == 0:\n",
    "        dec_stream.append('a')\n",
    "    elif sym ==1:\n",
    "        dec_stream.append('c')\n",
    "    elif sym == 2:\n",
    "        dec_stream.append('g')\n",
    "    elif sym == 3:\n",
    "        dec_stream.append('t')\n",
    "\n",
    "dec_stream = dec_stream[:-1] \n",
    "print(\"decoded symbol stream:\", dec_stream)"
   ]
  }
 ],
 "metadata": {
  "kernelspec": {
   "display_name": "Python 3",
   "language": "python",
   "name": "python3"
  },
  "language_info": {
   "codemirror_mode": {
    "name": "ipython",
    "version": 3
   },
   "file_extension": ".py",
   "mimetype": "text/x-python",
   "name": "python",
   "nbconvert_exporter": "python",
   "pygments_lexer": "ipython3",
   "version": "3.6.8"
  },
  "varInspector": {
   "cols": {
    "lenName": 16,
    "lenType": 16,
    "lenVar": 40
   },
   "kernels_config": {
    "python": {
     "delete_cmd_postfix": "",
     "delete_cmd_prefix": "del ",
     "library": "var_list.py",
     "varRefreshCmd": "print(var_dic_list())"
    },
    "r": {
     "delete_cmd_postfix": ") ",
     "delete_cmd_prefix": "rm(",
     "library": "var_list.r",
     "varRefreshCmd": "cat(var_dic_list()) "
    }
   },
   "types_to_exclude": [
    "module",
    "function",
    "builtin_function_or_method",
    "instance",
    "_Feature"
   ],
   "window_display": false
  }
 },
 "nbformat": 4,
 "nbformat_minor": 2
}
