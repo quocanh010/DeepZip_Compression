{
 "cells": [
  {
   "cell_type": "code",
   "execution_count": 1,
   "metadata": {
    "colab": {
     "base_uri": "https://localhost:8080/",
     "height": 69
    },
    "colab_type": "code",
    "executionInfo": {
     "elapsed": 582,
     "status": "ok",
     "timestamp": 1560215824847,
     "user": {
      "displayName": "Jessica Urbano",
      "photoUrl": "https://lh6.googleusercontent.com/-JY19-MQQZZY/AAAAAAAAAAI/AAAAAAAAAOQ/1wjLsu2nfVE/s64/photo.jpg",
      "userId": "15085472728949360208"
     },
     "user_tz": 420
    },
    "id": "iagX34EWmojD",
    "outputId": "ee8acd9c-8461-4b9c-be63-e329b0b394ac"
   },
   "outputs": [
    {
     "ename": "ModuleNotFoundError",
     "evalue": "No module named 'google.colab'",
     "output_type": "error",
     "traceback": [
      "\u001b[1;31m---------------------------------------------------------------------------\u001b[0m",
      "\u001b[1;31mModuleNotFoundError\u001b[0m                       Traceback (most recent call last)",
      "\u001b[1;32m<ipython-input-1-e6948d9a4a18>\u001b[0m in \u001b[0;36m<module>\u001b[1;34m\u001b[0m\n\u001b[1;32m----> 1\u001b[1;33m \u001b[1;32mfrom\u001b[0m \u001b[0mgoogle\u001b[0m\u001b[1;33m.\u001b[0m\u001b[0mcolab\u001b[0m \u001b[1;32mimport\u001b[0m \u001b[0mdrive\u001b[0m\u001b[1;33m\u001b[0m\u001b[1;33m\u001b[0m\u001b[0m\n\u001b[0m\u001b[0;32m      2\u001b[0m \u001b[0mdrive\u001b[0m\u001b[1;33m.\u001b[0m\u001b[0mmount\u001b[0m\u001b[1;33m(\u001b[0m\u001b[1;34m'/content/drive'\u001b[0m\u001b[1;33m)\u001b[0m\u001b[1;33m\u001b[0m\u001b[1;33m\u001b[0m\u001b[0m\n\u001b[0;32m      3\u001b[0m \u001b[0mget_ipython\u001b[0m\u001b[1;33m(\u001b[0m\u001b[1;33m)\u001b[0m\u001b[1;33m.\u001b[0m\u001b[0mrun_line_magic\u001b[0m\u001b[1;33m(\u001b[0m\u001b[1;34m'cd'\u001b[0m\u001b[1;33m,\u001b[0m \u001b[1;34m\"drive/'My Drive'/ECE_285_proj/\"\u001b[0m\u001b[1;33m)\u001b[0m\u001b[1;33m\u001b[0m\u001b[1;33m\u001b[0m\u001b[0m\n\u001b[0;32m      4\u001b[0m \u001b[0mget_ipython\u001b[0m\u001b[1;33m(\u001b[0m\u001b[1;33m)\u001b[0m\u001b[1;33m.\u001b[0m\u001b[0mrun_line_magic\u001b[0m\u001b[1;33m(\u001b[0m\u001b[1;34m'cd'\u001b[0m\u001b[1;33m,\u001b[0m \u001b[1;34m'DeepZip_Compression'\u001b[0m\u001b[1;33m)\u001b[0m\u001b[1;33m\u001b[0m\u001b[1;33m\u001b[0m\u001b[0m\n",
      "\u001b[1;31mModuleNotFoundError\u001b[0m: No module named 'google.colab'"
     ]
    }
   ],
   "source": [
    "from google.colab import drive\n",
    "drive.mount('/content/drive')\n",
    "%cd drive/'My Drive'/ECE_285_proj/\n",
    "%cd DeepZip_Compression"
   ]
  },
  {
   "cell_type": "code",
   "execution_count": 1,
   "metadata": {
    "colab": {
     "base_uri": "https://localhost:8080/",
     "height": 52
    },
    "colab_type": "code",
    "executionInfo": {
     "elapsed": 1758,
     "status": "ok",
     "timestamp": 1560215826056,
     "user": {
      "displayName": "Jessica Urbano",
      "photoUrl": "https://lh6.googleusercontent.com/-JY19-MQQZZY/AAAAAAAAAAI/AAAAAAAAAOQ/1wjLsu2nfVE/s64/photo.jpg",
      "userId": "15085472728949360208"
     },
     "user_tz": 420
    },
    "id": "4FCm6wO-ms8z",
    "outputId": "b988ebd6-454a-452a-fb6e-d48dfbf14d51"
   },
   "outputs": [
    {
     "name": "stderr",
     "output_type": "stream",
     "text": [
      "'ls' is not recognized as an internal or external command,\n",
      "operable program or batch file.\n"
     ]
    }
   ],
   "source": [
    "!ls"
   ]
  },
  {
   "cell_type": "code",
   "execution_count": 75,
   "metadata": {
    "colab": {
     "base_uri": "https://localhost:8080/",
     "height": 35
    },
    "colab_type": "code",
    "executionInfo": {
     "elapsed": 3407,
     "status": "ok",
     "timestamp": 1560215827707,
     "user": {
      "displayName": "Jessica Urbano",
      "photoUrl": "https://lh6.googleusercontent.com/-JY19-MQQZZY/AAAAAAAAAAI/AAAAAAAAAOQ/1wjLsu2nfVE/s64/photo.jpg",
      "userId": "15085472728949360208"
     },
     "user_tz": 420
    },
    "id": "x78VgVd0mndH",
    "outputId": "8c51c894-e81c-4bac-c193-e42b982d5cf3"
   },
   "outputs": [],
   "source": [
    "import sys\n",
    "from sklearn.metrics import mean_squared_error\n",
    "from sklearn.preprocessing import MinMaxScaler\n",
    "from keras.models import Sequential, load_model\n",
    "from keras.layers import Dense, Bidirectional\n",
    "from keras.layers import LSTM, Flatten, Conv1D, LocallyConnected1D, MaxPooling1D, GlobalAveragePooling1D, GlobalMaxPooling1D\n",
    "from math import sqrt\n",
    "from keras.layers.embeddings import Embedding\n",
    "from keras.callbacks import ModelCheckpoint, EarlyStopping\n",
    "# from matplotlib import pyplot\n",
    "import keras\n",
    "from sklearn.preprocessing import OneHotEncoder\n",
    "from keras.layers.normalization import BatchNormalization\n",
    "import tensorflow as tf\n",
    "import numpy as np\n",
    "import argparse\n",
    "import os\n",
    "from keras.callbacks import CSVLogger\n",
    "import keras.backend as K\n",
    "np.set_printoptions(threshold=sys.maxsize)"
   ]
  },
  {
   "cell_type": "markdown",
   "metadata": {
    "colab_type": "text",
    "id": "pBpyl_VVmndO"
   },
   "source": [
    "## DATA PREP"
   ]
  },
  {
   "cell_type": "code",
   "execution_count": 76,
   "metadata": {
    "colab": {
     "base_uri": "https://localhost:8080/",
     "height": 260
    },
    "colab_type": "code",
    "executionInfo": {
     "elapsed": 5035,
     "status": "ok",
     "timestamp": 1560215830684,
     "user": {
      "displayName": "Jessica Urbano",
      "photoUrl": "https://lh6.googleusercontent.com/-JY19-MQQZZY/AAAAAAAAAAI/AAAAAAAAAOQ/1wjLsu2nfVE/s64/photo.jpg",
      "userId": "15085472728949360208"
     },
     "user_tz": 420
    },
    "id": "5y2Q_SMjmndP",
    "outputId": "35f3b697-7e3e-4f54-cb8a-d61a64a7e87e"
   },
   "outputs": [
    {
     "name": "stdout",
     "output_type": "stream",
     "text": [
      "15072434\n",
      "{'A': 0, 'G': 1, 'C': 2, 'T': 3}\n",
      "{0: 'A', 1: 'G', 2: 'C', 3: 'T'}\n",
      "[[1]\n",
      " [2]\n",
      " [2]\n",
      " [3]\n",
      " [0]\n",
      " [0]\n",
      " [1]\n",
      " [2]\n",
      " [2]\n",
      " [3]]\n",
      "GCCTAAGCCT\n"
     ]
    }
   ],
   "source": [
    "import data_preparation\n",
    "#Convert letters to integers\n",
    "integer_encoded, params = data_preparation.process_data('input.txt')"
   ]
  },
  {
   "cell_type": "code",
   "execution_count": 77,
   "metadata": {
    "colab": {},
    "colab_type": "code",
    "id": "FuI8s7sSmndU"
   },
   "outputs": [],
   "source": [
    "bs=128\n",
    "time_steps=64\n",
    "num_epochs=20"
   ]
  },
  {
   "cell_type": "code",
   "execution_count": 78,
   "metadata": {
    "colab": {
     "base_uri": "https://localhost:8080/",
     "height": 176
    },
    "colab_type": "code",
    "executionInfo": {
     "elapsed": 401,
     "status": "ok",
     "timestamp": 1560215833178,
     "user": {
      "displayName": "Jessica Urbano",
      "photoUrl": "https://lh6.googleusercontent.com/-JY19-MQQZZY/AAAAAAAAAAI/AAAAAAAAAOQ/1wjLsu2nfVE/s64/photo.jpg",
      "userId": "15085472728949360208"
     },
     "user_tz": 420
    },
    "id": "hn92lIlOmndX",
    "outputId": "e94d7cb5-dc72-4f8f-fd54-d61303d79ffd"
   },
   "outputs": [
    {
     "name": "stdout",
     "output_type": "stream",
     "text": [
      "(44800, 1)\n",
      "(44800,)\n",
      "44672\n",
      "(44672, 65)\n"
     ]
    },
    {
     "name": "stderr",
     "output_type": "stream",
     "text": [
      "C:\\Users\\quoca\\Anaconda3\\lib\\site-packages\\sklearn\\preprocessing\\_encoders.py:368: FutureWarning: The handling of integer data will change in version 0.22. Currently, the categories are determined based on the range [0, max(values)], while in the future they will be determined based on the unique values.\n",
      "If you want the future behaviour and silence this warning, you can specify \"categories='auto'\".\n",
      "In case you used a LabelEncoder before this OneHotEncoder to convert the categories to integers, then you can now use the OneHotEncoder directly.\n",
      "  warnings.warn(msg, FutureWarning)\n"
     ]
    }
   ],
   "source": [
    "#Generate traning data and its lable \n",
    "X,Y_raw, Y = data_preparation.generate_single_output_data(integer_encoded[: bs * 350],bs, time_steps)\n"
   ]
  },
  {
   "cell_type": "markdown",
   "metadata": {
    "colab_type": "text",
    "id": "1nBcATPMmndd"
   },
   "source": [
    "## Trainning"
   ]
  },
  {
   "cell_type": "code",
   "execution_count": 79,
   "metadata": {
    "colab": {},
    "colab_type": "code",
    "id": "zQL3Vo0Umnde"
   },
   "outputs": [],
   "source": [
    "def custom_loss(y_true, y_pred):\n",
    "        return 1/np.log(2) * K.categorical_crossentropy(y_true, y_pred)        "
   ]
  },
  {
   "cell_type": "code",
   "execution_count": 80,
   "metadata": {
    "colab": {},
    "colab_type": "code",
    "id": "YVWxbczJmndg",
    "outputId": "ad08f724-10e3-4de4-85a3-07798a8addbb"
   },
   "outputs": [
    {
     "name": "stdout",
     "output_type": "stream",
     "text": [
      "WARNING:tensorflow:From C:\\Users\\quoca\\Anaconda3\\lib\\site-packages\\tensorflow\\python\\ops\\math_ops.py:3066: to_int32 (from tensorflow.python.ops.math_ops) is deprecated and will be removed in a future version.\n",
      "Instructions for updating:\n",
      "Use tf.cast instead.\n",
      "Epoch 1/20\n",
      " 7168/44672 [===>..........................] - ETA: 27s - loss: 1.9436"
     ]
    },
    {
     "ename": "KeyboardInterrupt",
     "evalue": "",
     "output_type": "error",
     "traceback": [
      "\u001b[1;31m---------------------------------------------------------------------------\u001b[0m",
      "\u001b[1;31mKeyboardInterrupt\u001b[0m                         Traceback (most recent call last)",
      "\u001b[1;32m<ipython-input-80-850c803a7df2>\u001b[0m in \u001b[0;36m<module>\u001b[1;34m\u001b[0m\n\u001b[0;32m     11\u001b[0m \u001b[0mearly_stopping\u001b[0m \u001b[1;33m=\u001b[0m \u001b[0mEarlyStopping\u001b[0m\u001b[1;33m(\u001b[0m\u001b[0mmonitor\u001b[0m\u001b[1;33m=\u001b[0m\u001b[1;34m'loss'\u001b[0m\u001b[1;33m,\u001b[0m \u001b[0mmode\u001b[0m\u001b[1;33m=\u001b[0m\u001b[1;34m'min'\u001b[0m\u001b[1;33m,\u001b[0m \u001b[0mmin_delta\u001b[0m\u001b[1;33m=\u001b[0m\u001b[1;36m0.005\u001b[0m\u001b[1;33m,\u001b[0m \u001b[0mpatience\u001b[0m\u001b[1;33m=\u001b[0m\u001b[1;36m3\u001b[0m\u001b[1;33m,\u001b[0m \u001b[0mverbose\u001b[0m\u001b[1;33m=\u001b[0m\u001b[1;36m1\u001b[0m\u001b[1;33m)\u001b[0m\u001b[1;33m\u001b[0m\u001b[1;33m\u001b[0m\u001b[0m\n\u001b[0;32m     12\u001b[0m \u001b[0mcallbacks_list\u001b[0m \u001b[1;33m=\u001b[0m \u001b[1;33m[\u001b[0m\u001b[0mearly_stopping\u001b[0m\u001b[1;33m]\u001b[0m\u001b[1;33m\u001b[0m\u001b[1;33m\u001b[0m\u001b[0m\n\u001b[1;32m---> 13\u001b[1;33m \u001b[0mDZ_model\u001b[0m\u001b[1;33m.\u001b[0m\u001b[0mfit\u001b[0m\u001b[1;33m(\u001b[0m\u001b[0mX\u001b[0m\u001b[1;33m,\u001b[0m \u001b[0mY\u001b[0m\u001b[1;33m,\u001b[0m \u001b[0mepochs\u001b[0m\u001b[1;33m=\u001b[0m\u001b[0mnum_epochs\u001b[0m\u001b[1;33m,\u001b[0m \u001b[0mbatch_size\u001b[0m\u001b[1;33m=\u001b[0m\u001b[0mbs\u001b[0m\u001b[1;33m,\u001b[0m \u001b[0mverbose\u001b[0m\u001b[1;33m=\u001b[0m\u001b[1;36m1\u001b[0m\u001b[1;33m,\u001b[0m \u001b[0mshuffle\u001b[0m\u001b[1;33m=\u001b[0m\u001b[1;32mTrue\u001b[0m\u001b[1;33m,\u001b[0m \u001b[0mcallbacks\u001b[0m\u001b[1;33m=\u001b[0m\u001b[0mcallbacks_list\u001b[0m\u001b[1;33m)\u001b[0m\u001b[1;33m\u001b[0m\u001b[1;33m\u001b[0m\u001b[0m\n\u001b[0m",
      "\u001b[1;32m~\\Anaconda3\\lib\\site-packages\\keras\\engine\\training.py\u001b[0m in \u001b[0;36mfit\u001b[1;34m(self, x, y, batch_size, epochs, verbose, callbacks, validation_split, validation_data, shuffle, class_weight, sample_weight, initial_epoch, steps_per_epoch, validation_steps, **kwargs)\u001b[0m\n\u001b[0;32m   1037\u001b[0m                                         \u001b[0minitial_epoch\u001b[0m\u001b[1;33m=\u001b[0m\u001b[0minitial_epoch\u001b[0m\u001b[1;33m,\u001b[0m\u001b[1;33m\u001b[0m\u001b[1;33m\u001b[0m\u001b[0m\n\u001b[0;32m   1038\u001b[0m                                         \u001b[0msteps_per_epoch\u001b[0m\u001b[1;33m=\u001b[0m\u001b[0msteps_per_epoch\u001b[0m\u001b[1;33m,\u001b[0m\u001b[1;33m\u001b[0m\u001b[1;33m\u001b[0m\u001b[0m\n\u001b[1;32m-> 1039\u001b[1;33m                                         validation_steps=validation_steps)\n\u001b[0m\u001b[0;32m   1040\u001b[0m \u001b[1;33m\u001b[0m\u001b[0m\n\u001b[0;32m   1041\u001b[0m     def evaluate(self, x=None, y=None,\n",
      "\u001b[1;32m~\\Anaconda3\\lib\\site-packages\\keras\\engine\\training_arrays.py\u001b[0m in \u001b[0;36mfit_loop\u001b[1;34m(model, f, ins, out_labels, batch_size, epochs, verbose, callbacks, val_f, val_ins, shuffle, callback_metrics, initial_epoch, steps_per_epoch, validation_steps)\u001b[0m\n\u001b[0;32m    197\u001b[0m                     \u001b[0mins_batch\u001b[0m\u001b[1;33m[\u001b[0m\u001b[0mi\u001b[0m\u001b[1;33m]\u001b[0m \u001b[1;33m=\u001b[0m \u001b[0mins_batch\u001b[0m\u001b[1;33m[\u001b[0m\u001b[0mi\u001b[0m\u001b[1;33m]\u001b[0m\u001b[1;33m.\u001b[0m\u001b[0mtoarray\u001b[0m\u001b[1;33m(\u001b[0m\u001b[1;33m)\u001b[0m\u001b[1;33m\u001b[0m\u001b[1;33m\u001b[0m\u001b[0m\n\u001b[0;32m    198\u001b[0m \u001b[1;33m\u001b[0m\u001b[0m\n\u001b[1;32m--> 199\u001b[1;33m                 \u001b[0mouts\u001b[0m \u001b[1;33m=\u001b[0m \u001b[0mf\u001b[0m\u001b[1;33m(\u001b[0m\u001b[0mins_batch\u001b[0m\u001b[1;33m)\u001b[0m\u001b[1;33m\u001b[0m\u001b[1;33m\u001b[0m\u001b[0m\n\u001b[0m\u001b[0;32m    200\u001b[0m                 \u001b[0mouts\u001b[0m \u001b[1;33m=\u001b[0m \u001b[0mto_list\u001b[0m\u001b[1;33m(\u001b[0m\u001b[0mouts\u001b[0m\u001b[1;33m)\u001b[0m\u001b[1;33m\u001b[0m\u001b[1;33m\u001b[0m\u001b[0m\n\u001b[0;32m    201\u001b[0m                 \u001b[1;32mfor\u001b[0m \u001b[0ml\u001b[0m\u001b[1;33m,\u001b[0m \u001b[0mo\u001b[0m \u001b[1;32min\u001b[0m \u001b[0mzip\u001b[0m\u001b[1;33m(\u001b[0m\u001b[0mout_labels\u001b[0m\u001b[1;33m,\u001b[0m \u001b[0mouts\u001b[0m\u001b[1;33m)\u001b[0m\u001b[1;33m:\u001b[0m\u001b[1;33m\u001b[0m\u001b[1;33m\u001b[0m\u001b[0m\n",
      "\u001b[1;32m~\\Anaconda3\\lib\\site-packages\\keras\\backend\\tensorflow_backend.py\u001b[0m in \u001b[0;36m__call__\u001b[1;34m(self, inputs)\u001b[0m\n\u001b[0;32m   2713\u001b[0m                 \u001b[1;32mreturn\u001b[0m \u001b[0mself\u001b[0m\u001b[1;33m.\u001b[0m\u001b[0m_legacy_call\u001b[0m\u001b[1;33m(\u001b[0m\u001b[0minputs\u001b[0m\u001b[1;33m)\u001b[0m\u001b[1;33m\u001b[0m\u001b[1;33m\u001b[0m\u001b[0m\n\u001b[0;32m   2714\u001b[0m \u001b[1;33m\u001b[0m\u001b[0m\n\u001b[1;32m-> 2715\u001b[1;33m             \u001b[1;32mreturn\u001b[0m \u001b[0mself\u001b[0m\u001b[1;33m.\u001b[0m\u001b[0m_call\u001b[0m\u001b[1;33m(\u001b[0m\u001b[0minputs\u001b[0m\u001b[1;33m)\u001b[0m\u001b[1;33m\u001b[0m\u001b[1;33m\u001b[0m\u001b[0m\n\u001b[0m\u001b[0;32m   2716\u001b[0m         \u001b[1;32melse\u001b[0m\u001b[1;33m:\u001b[0m\u001b[1;33m\u001b[0m\u001b[1;33m\u001b[0m\u001b[0m\n\u001b[0;32m   2717\u001b[0m             \u001b[1;32mif\u001b[0m \u001b[0mpy_any\u001b[0m\u001b[1;33m(\u001b[0m\u001b[0mis_tensor\u001b[0m\u001b[1;33m(\u001b[0m\u001b[0mx\u001b[0m\u001b[1;33m)\u001b[0m \u001b[1;32mfor\u001b[0m \u001b[0mx\u001b[0m \u001b[1;32min\u001b[0m \u001b[0minputs\u001b[0m\u001b[1;33m)\u001b[0m\u001b[1;33m:\u001b[0m\u001b[1;33m\u001b[0m\u001b[1;33m\u001b[0m\u001b[0m\n",
      "\u001b[1;32m~\\Anaconda3\\lib\\site-packages\\keras\\backend\\tensorflow_backend.py\u001b[0m in \u001b[0;36m_call\u001b[1;34m(self, inputs)\u001b[0m\n\u001b[0;32m   2673\u001b[0m             \u001b[0mfetched\u001b[0m \u001b[1;33m=\u001b[0m \u001b[0mself\u001b[0m\u001b[1;33m.\u001b[0m\u001b[0m_callable_fn\u001b[0m\u001b[1;33m(\u001b[0m\u001b[1;33m*\u001b[0m\u001b[0marray_vals\u001b[0m\u001b[1;33m,\u001b[0m \u001b[0mrun_metadata\u001b[0m\u001b[1;33m=\u001b[0m\u001b[0mself\u001b[0m\u001b[1;33m.\u001b[0m\u001b[0mrun_metadata\u001b[0m\u001b[1;33m)\u001b[0m\u001b[1;33m\u001b[0m\u001b[1;33m\u001b[0m\u001b[0m\n\u001b[0;32m   2674\u001b[0m         \u001b[1;32melse\u001b[0m\u001b[1;33m:\u001b[0m\u001b[1;33m\u001b[0m\u001b[1;33m\u001b[0m\u001b[0m\n\u001b[1;32m-> 2675\u001b[1;33m             \u001b[0mfetched\u001b[0m \u001b[1;33m=\u001b[0m \u001b[0mself\u001b[0m\u001b[1;33m.\u001b[0m\u001b[0m_callable_fn\u001b[0m\u001b[1;33m(\u001b[0m\u001b[1;33m*\u001b[0m\u001b[0marray_vals\u001b[0m\u001b[1;33m)\u001b[0m\u001b[1;33m\u001b[0m\u001b[1;33m\u001b[0m\u001b[0m\n\u001b[0m\u001b[0;32m   2676\u001b[0m         \u001b[1;32mreturn\u001b[0m \u001b[0mfetched\u001b[0m\u001b[1;33m[\u001b[0m\u001b[1;33m:\u001b[0m\u001b[0mlen\u001b[0m\u001b[1;33m(\u001b[0m\u001b[0mself\u001b[0m\u001b[1;33m.\u001b[0m\u001b[0moutputs\u001b[0m\u001b[1;33m)\u001b[0m\u001b[1;33m]\u001b[0m\u001b[1;33m\u001b[0m\u001b[1;33m\u001b[0m\u001b[0m\n\u001b[0;32m   2677\u001b[0m \u001b[1;33m\u001b[0m\u001b[0m\n",
      "\u001b[1;32m~\\Anaconda3\\lib\\site-packages\\tensorflow\\python\\client\\session.py\u001b[0m in \u001b[0;36m__call__\u001b[1;34m(self, *args, **kwargs)\u001b[0m\n\u001b[0;32m   1437\u001b[0m           ret = tf_session.TF_SessionRunCallable(\n\u001b[0;32m   1438\u001b[0m               \u001b[0mself\u001b[0m\u001b[1;33m.\u001b[0m\u001b[0m_session\u001b[0m\u001b[1;33m.\u001b[0m\u001b[0m_session\u001b[0m\u001b[1;33m,\u001b[0m \u001b[0mself\u001b[0m\u001b[1;33m.\u001b[0m\u001b[0m_handle\u001b[0m\u001b[1;33m,\u001b[0m \u001b[0margs\u001b[0m\u001b[1;33m,\u001b[0m \u001b[0mstatus\u001b[0m\u001b[1;33m,\u001b[0m\u001b[1;33m\u001b[0m\u001b[1;33m\u001b[0m\u001b[0m\n\u001b[1;32m-> 1439\u001b[1;33m               run_metadata_ptr)\n\u001b[0m\u001b[0;32m   1440\u001b[0m         \u001b[1;32mif\u001b[0m \u001b[0mrun_metadata\u001b[0m\u001b[1;33m:\u001b[0m\u001b[1;33m\u001b[0m\u001b[1;33m\u001b[0m\u001b[0m\n\u001b[0;32m   1441\u001b[0m           \u001b[0mproto_data\u001b[0m \u001b[1;33m=\u001b[0m \u001b[0mtf_session\u001b[0m\u001b[1;33m.\u001b[0m\u001b[0mTF_GetBuffer\u001b[0m\u001b[1;33m(\u001b[0m\u001b[0mrun_metadata_ptr\u001b[0m\u001b[1;33m)\u001b[0m\u001b[1;33m\u001b[0m\u001b[1;33m\u001b[0m\u001b[0m\n",
      "\u001b[1;31mKeyboardInterrupt\u001b[0m: "
     ]
    }
   ],
   "source": [
    "alphabet_size = Y.shape[1]\n",
    "DZ_model = Sequential()\n",
    "DZ_model.add(Embedding(alphabet_size, 32, batch_input_shape=(bs, time_steps)))\n",
    "DZ_model.add(LSTM(32, stateful=False, return_sequences=True))\n",
    "DZ_model.add(LSTM(32, stateful=False, return_sequences=True))\n",
    "DZ_model.add(Flatten())\n",
    "DZ_model.add(Dense(64, activation='relu'))\n",
    "DZ_model.add(Dense(alphabet_size, activation='softmax'))\n",
    "optim = keras.optimizers.Adam(lr=1e-3, beta_1=0.9, beta_2=0.999, epsilon=1e-8, decay=0, amsgrad=False)\n",
    "DZ_model.compile(loss=custom_loss, optimizer=optim)\n",
    "early_stopping = EarlyStopping(monitor='loss', mode='min', min_delta=0.005, patience=3, verbose=1)\n",
    "callbacks_list = [early_stopping]\n",
    "DZ_model.fit(X, Y, epochs=num_epochs, batch_size=bs, verbose=1, shuffle=True, callbacks=callbacks_list)"
   ]
  },
  {
   "cell_type": "markdown",
   "metadata": {
    "colab_type": "text",
    "id": "Ht_DJGOGmndl"
   },
   "source": [
    "## Codec"
   ]
  },
  {
   "cell_type": "code",
   "execution_count": 83,
   "metadata": {
    "colab": {},
    "colab_type": "code",
    "id": "nAyEIB48mndp"
   },
   "outputs": [],
   "source": [
    "class ArithmeticEncoder(object):\n",
    "    def __init__(self, bitlen):\n",
    "        self.bit_prec = bitlen   #bit precision \n",
    "        self.max_range = 1 << self.bit_prec  #max range based on bit precision 2^bit_prec\n",
    "        self.mask = self.max_range - 1  #max range index starting at 0\n",
    "        self.renorm= self.max_range >> 1  #renormalization threshold\n",
    "        self.second_mask = self.max_range >> 1\n",
    "        self.low = 0  #initial low\n",
    "        self.high = self.mask  #initial high\n",
    "        self.s = 0  \n",
    "\n",
    "    def update(self, sym, c):\n",
    "        low = self.low   \n",
    "        high = self.high\n",
    "        range = high - low + 1\n",
    "        sym = int(sym)\n",
    "        total = (c[-1])  #cumulative propabilities\n",
    "        symlow = (c[sym])  \n",
    "        symhigh = (c[sym+1] )\n",
    "        \n",
    "\n",
    "        newlow = low + symlow*range // total  #low in arithmetic integer\n",
    "        newhigh = low + symhigh*range // total -1 #high in arithemtic integer\n",
    "        self.low = int(newlow)\n",
    "        self.high = int(newhigh)\n",
    "        range = self.high - self.low \n",
    "\n",
    "        while((self.low ^ self.high) & self.renorm) == 0:\n",
    "            self.low = (self.low << 1) \n",
    "            range = range << 1 | 1\n",
    "            self.high = self.low + range\n",
    "            self.s = self.s + 1          \n",
    "\n",
    "   \n",
    "    def write(self, c, sym):\n",
    "        self.update(c,sym)\n",
    "        return [self.low, self.s]\n",
    "        \n",
    "    def finish(self):\n",
    "        self.output.write(1)\n",
    "\n",
    "\n",
    "\n",
    "\n",
    "\n",
    "class ArithmeticDecoder(ArithmeticEncoder):\n",
    "    def __init__(self,statesize,bitin,c):\n",
    "        self.input = bitin\n",
    "        self.bitstream = ([int(d) for d in str(self.input)])\n",
    "        self.code = 0\n",
    "        self.max_range = 1 << statesize\n",
    "        self.renorm= self.max_range >> 1\n",
    "        self.mask = self.max_range - 1\n",
    "        self.stream = self.input[0:statesize]\n",
    "        self.low = int(self.stream,2)\n",
    "        self.t = statesize\n",
    "        self.thresh = []\n",
    "        self.total = (c[-1])\n",
    "        self.cum = [c[i]/self.total for i in range(len(c))]\n",
    "        self.thresh = [round((self.cum[i])*self.mask) for i in range(len(self.cum))]\n",
    "        \n",
    "    def decode(self, c):\n",
    "        c = [c[i]/self.total for i in range(len(c))]\n",
    "        for i in range(len(self.thresh)-1):\n",
    "            if((self.low < self.thresh[i+1]) & (self.low >= self.thresh[i])):\n",
    "                sym = i\n",
    "                rangenew = int(self.thresh[i+1] - self.thresh[i])\n",
    "                while (rangenew < self.renorm):\n",
    "                    rangenew = rangenew << 1 \n",
    "                    self.low = self.low << 1\n",
    "                    self.thresh[i] = int(self.thresh[i]) << 1\n",
    "                    self.thresh[i+1] = rangenew + self.thresh[i]\n",
    "                self.thresh = [(c[j]*(self.thresh[i+1]-self.thresh[i]))+self.thresh[i] for j in range(len(self.cum))]\n",
    "                break\n",
    "        return sym"
   ]
  },
  {
   "cell_type": "markdown",
   "metadata": {},
   "source": [
    "## Encoding"
   ]
  },
  {
   "cell_type": "code",
   "execution_count": null,
   "metadata": {
    "colab": {
     "base_uri": "https://localhost:8080/",
     "height": 121
    },
    "colab_type": "code",
    "executionInfo": {
     "elapsed": 1105,
     "status": "ok",
     "timestamp": 1560217712655,
     "user": {
      "displayName": "Jessica Urbano",
      "photoUrl": "https://lh6.googleusercontent.com/-JY19-MQQZZY/AAAAAAAAAAI/AAAAAAAAAOQ/1wjLsu2nfVE/s64/photo.jpg",
      "userId": "15085472728949360208"
     },
     "user_tz": 420
    },
    "id": "6-uH3StGmndv",
    "outputId": "580f3c80-9c76-428b-900e-3300067f16f3"
   },
   "outputs": [],
   "source": [
    "#Load model\n",
    "DZ_model = load_model('my_model.h5', compile=False)\n",
    "\n",
    "bitprecision = 64\n",
    "l = int(X.shape[0] / bs) * bs \n",
    "\n",
    "#Create Uniform distribution to feed in to the model\n",
    "alphabet_size = 4\n",
    "prob = np.ones(alphabet_size)/alphabet_size\n",
    "c = np.zeros(alphabet_size+1,  dtype = np.int64)\n",
    "c[1:] = np.cumsum(prob*10000000 + 1)        \n",
    "bitstream = []\n",
    "enc = ArithmeticEncoder(bitprecision)\n",
    "\n",
    "num_iters = int((len(X)+time_steps)/bs)\n",
    "ind = np.array(range(bs))*num_iters\n",
    "count =0 \n",
    "\n",
    "\n",
    "#Encoding\n",
    "count = 0\n",
    "new_l = []\n",
    "for i in (range(bs)):\n",
    "    for j in range(min(time_steps, num_iters)):\n",
    "        if (count%16 == 0 and count != 0):\n",
    "            enc = None\n",
    "            enc = ArithmeticEncoder(bitprecision)\n",
    "            new_l.append(new)\n",
    "            new = None\n",
    "        new = enc.write(X[ind[i], j], c.tolist())\n",
    "        count = count + 1\n",
    "new_l.append(new)\n",
    "\n",
    "count = 0\n",
    "cumul_array = np.zeros(( round((num_iters - time_steps) * bs), 5), dtype = np.uint64)\n",
    "new_l1 = []\n",
    "enc1 = ArithmeticEncoder(bitprecision)\n",
    "#convert low to bitstream, ensure proper number of bits \n",
    "cumul = np.zeros((bs, alphabet_size + 1), dtype = np.uint64)\n",
    "t = 0\n",
    "for k in (range(num_iters - time_steps)):\n",
    "    prob = DZ_model.predict(X[ind,:], batch_size=bs)\n",
    "    cumul[:,1:] = np.cumsum(prob*10000000 + 1, axis = 1)\n",
    "    for i in range(bs):\n",
    "        if (count%16 == 0 and count != 0):\n",
    "            enc1 = None\n",
    "            enc1 = ArithmeticEncoder(bitprecision)\n",
    "            new_l1.append(new)\n",
    "        cumul_array[count, :] = cumul[i,:]\n",
    "        new = enc1.write(Y_raw[ind[i]], cumul[i,:].tolist()) \n",
    "        count = count + 1\n",
    "        \n",
    "    ind = ind + 1\n",
    "new_l1.append(new)\n",
    "new = None\n",
    "\n",
    "\n",
    "\n"
   ]
  },
  {
   "cell_type": "markdown",
   "metadata": {},
   "source": [
    "# Decoding"
   ]
  },
  {
   "cell_type": "code",
   "execution_count": 66,
   "metadata": {},
   "outputs": [],
   "source": [
    "#Decoding first 64 uniform bits\n",
    "series_2d = np.zeros((bs,num_iters), dtype = np.uint8)\n",
    "symdec = []\n",
    "count = 1\n",
    "for i in range(len(new_l)):\n",
    "    count = count + 1\n",
    "    new = new_l[i]\n",
    "    low_final = new[0] #final low value \n",
    "    s_final = new[1]  #count of renormalizations\n",
    "    bitstream = format(int(low_final), 'b') \n",
    "    while len(bitstream) < (s_final+bitprecision):\n",
    "        bitstream = '0' + bitstream\n",
    "    #START DECODER\n",
    "    dec = None\n",
    "    dec = ArithmeticDecoder(bitprecision, bitstream, c.tolist())\n",
    "    for i in range(16):\n",
    "        symdec.append(dec.decode(c.tolist()))   \n",
    "\n"
   ]
  },
  {
   "cell_type": "code",
   "execution_count": 67,
   "metadata": {},
   "outputs": [
    {
     "name": "stdout",
     "output_type": "stream",
     "text": [
      "44672\n",
      "44608\n"
     ]
    }
   ],
   "source": [
    "# NN decoding for the next num_iter - time_steps\n",
    "symdec_a = np.asarray(symdec)\n",
    "symdec_a = symdec_a.reshape(128, 64)\n",
    "series_2d = np.zeros((bs,num_iters), dtype = np.uint8)\n",
    "series_2d[:,0:64] = symdec_a\n",
    "bitprecision = 64\n",
    "l = int(X.shape[0] / bs) * bs \n",
    "print(l)\n",
    "print((X.shape[0])-time_steps)\n",
    "\n",
    "#Create Uniform distribution to feed in to the model\n",
    "alphabet_size = 4\n",
    "prob = np.ones(alphabet_size)/alphabet_size\n",
    "c = np.zeros(alphabet_size+1,  dtype = np.int64)\n",
    "c[1:] = np.cumsum(prob*10000000 + 1)        \n",
    "bitstream = []\n",
    "enc = ArithmeticEncoder(bitprecision)\n",
    "\n",
    "n_sym = []\n",
    "count = 0\n",
    "t = 0\n",
    "cumul = np.zeros((bs, alphabet_size+1), dtype = np.uint64)\n",
    "for j in (range(num_iters - time_steps)):\n",
    "    prob = DZ_model.predict(series_2d[:,j:j+time_steps], batch_size=bs)\n",
    "    cumul[:,1:] = np.cumsum(prob*10000000 + 1, axis = 1)\n",
    "    for i in range(bs):\n",
    "        if (count%16 == 0):\n",
    "            new = new_l1[t]\n",
    "            low_final = new[0] #final low value \n",
    "            s_final = new[1]  #count of renormalizations\n",
    "            bitstream = format(int(low_final), 'b') \n",
    "            t = t + 1\n",
    "            while len(bitstream) < (s_final+bitprecision):\n",
    "                bitstream = '0' + bitstream\n",
    "            c = cumul[i,:]   \n",
    "        dec = ArithmeticDecoder(bitprecision, bitstream, c.tolist())\n",
    "        c = cumul[i,:]\n",
    "        n_sym.append(dec.decode(c.tolist()))\n",
    "        series_2d[i,j+time_steps] = n_sym[-1]\n",
    "        count = count + 1\n",
    "        \n",
    "        \n",
    "\n",
    "\n",
    "               "
   ]
  },
  {
   "cell_type": "code",
   "execution_count": 69,
   "metadata": {},
   "outputs": [],
   "source": [
    " a= series_2d.reshape(-1)"
   ]
  },
  {
   "cell_type": "code",
   "execution_count": 74,
   "metadata": {},
   "outputs": [
    {
     "data": {
      "text/plain": [
       "array([0, 0, 1, 2, 2, 3, 0, 0, 1, 2, 2, 3, 0, 0, 1, 2, 2, 3, 0, 0, 1, 2,\n",
       "       2, 3, 0, 0, 1, 2, 2, 3, 0, 0, 1, 2, 2, 3, 0, 0, 1, 2, 2, 3, 0, 0,\n",
       "       1, 2, 2, 3, 0, 0, 1, 2, 2, 3, 0, 0, 1, 2, 2, 3, 0, 0, 1, 2, 2, 3,\n",
       "       0, 0, 1, 2, 2, 3, 0, 0, 1, 2, 2, 3, 0, 0, 1, 2, 2, 3, 0, 0, 1, 2,\n",
       "       2, 3, 0, 0, 1, 2, 2, 3, 0, 0, 1, 2, 2, 3, 0, 0, 1, 2, 2, 3, 0, 0,\n",
       "       1, 2, 2, 3, 0, 0, 1, 2, 2, 3, 0, 0, 1, 2, 2, 3, 0, 0, 1, 2, 2, 3,\n",
       "       0, 0, 1, 2, 2, 3, 0, 0, 1, 2, 2, 3, 0, 0, 1, 2, 2, 3, 0, 0, 1, 2,\n",
       "       2, 3, 0, 0, 1, 2, 2, 3, 0, 0, 1, 2, 2, 3, 0, 0, 1, 2, 2, 3, 0, 0,\n",
       "       1, 2, 2, 3, 0, 0, 1, 2, 2, 3, 0, 0, 1, 2, 2, 3, 0, 0, 1, 2, 2, 3,\n",
       "       0, 0, 1, 2, 2, 3, 0, 0, 1, 2, 2, 3, 0, 0, 1, 2, 2, 3, 0, 0, 1, 2,\n",
       "       2, 3, 0, 0, 1, 2, 2, 3, 0, 0, 1, 2, 2, 3, 0, 0, 1, 2, 2, 3, 0, 0,\n",
       "       1, 2, 2, 3, 0, 0, 1, 2, 2, 3, 0, 0, 1, 2, 2, 3, 0, 0, 1, 2, 2, 3,\n",
       "       0, 0, 1, 2, 2, 3, 0, 0, 1, 2, 2, 3, 0, 0, 1, 2, 2, 3, 0, 0, 1, 2],\n",
       "      dtype=uint8)"
      ]
     },
     "execution_count": 74,
     "metadata": {},
     "output_type": "execute_result"
    }
   ],
   "source": [
    "a[64:350]"
   ]
  },
  {
   "cell_type": "code",
   "execution_count": 73,
   "metadata": {},
   "outputs": [
    {
     "data": {
      "text/plain": [
       "array([[0, 0, 1, 2, 2, 3, 0, 0, 1, 2, 2, 3, 0, 0, 1, 2, 2, 3, 0, 0, 1, 2,\n",
       "        2, 3, 0, 0, 1, 2, 2, 3, 0, 0, 1, 2, 2, 3, 0, 0, 1, 2, 2, 3, 0, 0,\n",
       "        1, 2, 2, 3, 0, 0, 1, 2, 2, 3, 0, 0, 1, 2, 2, 3, 0, 0, 1, 2, 2, 3,\n",
       "        0, 0, 1, 2, 2, 3, 0, 0, 1, 2, 2, 3, 0, 0, 1, 2, 2, 3, 0, 0, 1, 2,\n",
       "        2, 3, 0, 0, 1, 2, 2, 3, 0, 0, 1, 2, 2, 3, 0, 0, 1, 2, 2, 3, 0, 0,\n",
       "        1, 2, 2, 3, 0, 0, 1, 2, 2, 3, 0, 0, 1, 2, 2, 3, 0, 0, 1, 2, 2, 3,\n",
       "        0, 0, 1, 2, 2, 3, 0, 0, 1, 2, 2, 3, 0, 0, 1, 2, 2, 3, 0, 0, 1, 2,\n",
       "        2, 3, 0, 0, 1, 2, 2, 3, 0, 0, 1, 2, 2, 3, 0, 0, 1, 2, 2, 3, 0, 0,\n",
       "        1, 2, 2, 3, 0, 0, 1, 2, 2, 3, 0, 0, 1, 2, 2, 3, 0, 0, 1, 2, 2, 3,\n",
       "        0, 0, 1, 2, 2, 3, 0, 0, 1, 2, 2, 3, 0, 0, 1, 2, 2, 3, 0, 0, 1, 2,\n",
       "        2, 3, 0, 0, 1, 2, 2, 3, 0, 0, 1, 2, 2, 3, 0, 0, 1, 2, 2, 3, 0, 0,\n",
       "        1, 2, 2, 3, 0, 0, 1, 2, 2, 3, 0, 0, 1, 2, 2, 3, 0, 0, 1, 2, 2, 3,\n",
       "        0, 0, 1, 2, 2, 3, 0, 0, 1, 2, 2, 3, 0, 0, 1, 2, 2, 3, 0, 0, 1, 2]])"
      ]
     },
     "execution_count": 73,
     "metadata": {},
     "output_type": "execute_result"
    }
   ],
   "source": [
    "Y_raw[0:286].T"
   ]
  },
  {
   "cell_type": "code",
   "execution_count": 0,
   "metadata": {
    "colab": {},
    "colab_type": "code",
    "id": "JmVjbzQEmne2"
   },
   "outputs": [],
   "source": []
  }
 ],
 "metadata": {
  "colab": {
   "collapsed_sections": [
    "1nBcATPMmndd"
   ],
   "name": "main.ipynb",
   "provenance": [],
   "version": "0.3.2"
  },
  "kernelspec": {
   "display_name": "Python 3",
   "language": "python",
   "name": "python3"
  },
  "language_info": {
   "codemirror_mode": {
    "name": "ipython",
    "version": 3
   },
   "file_extension": ".py",
   "mimetype": "text/x-python",
   "name": "python",
   "nbconvert_exporter": "python",
   "pygments_lexer": "ipython3",
   "version": "3.7.1"
  }
 },
 "nbformat": 4,
 "nbformat_minor": 1
}
